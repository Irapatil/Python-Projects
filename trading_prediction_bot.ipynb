{
  "nbformat": 4,
  "nbformat_minor": 0,
  "metadata": {
    "colab": {
      "provenance": []
    },
    "kernelspec": {
      "name": "python3",
      "display_name": "Python 3"
    },
    "language_info": {
      "name": "python"
    }
  },
  "cells": [
    {
      "cell_type": "code",
      "execution_count": 1,
      "metadata": {
        "colab": {
          "base_uri": "https://localhost:8080/"
        },
        "id": "rpdHrkvHR6MO",
        "outputId": "d2618826-e996-4d72-ebbb-017a09a5b261"
      },
      "outputs": [
        {
          "output_type": "stream",
          "name": "stdout",
          "text": [
            " * Serving Flask app '__main__'\n",
            " * Debug mode: on\n"
          ]
        },
        {
          "output_type": "stream",
          "name": "stderr",
          "text": [
            "INFO:werkzeug:\u001b[31m\u001b[1mWARNING: This is a development server. Do not use it in a production deployment. Use a production WSGI server instead.\u001b[0m\n",
            " * Running on http://127.0.0.1:5000\n",
            "INFO:werkzeug:\u001b[33mPress CTRL+C to quit\u001b[0m\n",
            "INFO:werkzeug: * Restarting with stat\n"
          ]
        }
      ],
      "source": [
        "from flask import Flask, request, jsonify\n",
        "import openai\n",
        "\n",
        "# Initialize Flask app\n",
        "app = Flask(__name__)\n",
        "\n",
        "# Set OpenAI API Key\n",
        "openai.api_key = \"your_openai_api_key\"\n",
        "\n",
        "# Define a route for the chatbot\n",
        "@app.route('/chat', methods=['POST'])\n",
        "def chat():\n",
        "    # Get the user input from the request\n",
        "    user_input = request.json.get('message', '')\n",
        "\n",
        "    if not user_input:\n",
        "        return jsonify({\"error\": \"Message is required\"}), 400\n",
        "\n",
        "    try:\n",
        "        # Use OpenAI's GPT to generate a response\n",
        "        response = openai.ChatCompletion.create(\n",
        "            model=\"gpt-4\",\n",
        "            messages=[\n",
        "                {\"role\": \"system\", \"content\": \"You are a trading prediction assistant. Provide insights based on market trends.\"},\n",
        "                {\"role\": \"user\", \"content\": user_input}\n",
        "            ]\n",
        "        )\n",
        "\n",
        "        # Extract the chatbot's response\n",
        "        bot_response = response['choices'][0]['message']['content']\n",
        "\n",
        "        return jsonify({\"response\": bot_response})\n",
        "\n",
        "    except Exception as e:\n",
        "        return jsonify({\"error\": str(e)}), 500\n",
        "\n",
        "# Define a route for testing\n",
        "@app.route('/', methods=['GET'])\n",
        "def index():\n",
        "    return \"Trading Prediction Chatbot is running!\"\n",
        "\n",
        "# Run the Flask app\n",
        "if __name__ == '__main__':\n",
        "    app.run(debug=True)\n"
      ]
    }
  ]
}